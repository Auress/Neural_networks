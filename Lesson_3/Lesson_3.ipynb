{
 "cells": [
  {
   "cell_type": "markdown",
   "metadata": {},
   "source": [
    "### Урок 3. TensorFlow#"
   ]
  },
  {
   "cell_type": "markdown",
   "metadata": {},
   "source": [
    "### -- Автор: Шенк Евгений Станиславович"
   ]
  },
  {
   "cell_type": "markdown",
   "metadata": {},
   "source": [
    "### Задание 1.\n",
    "<ol>\n",
    "Попробуйте улучшить работу нейронной сети(разобранную на уроке) обучавшейся на датасет Fashion-MNIST. \n",
    "Опишите в комментарии к уроку - какого результата вы добились от нейросети? Что помогло вам улучшить ее точность?\n",
    "</ol>\n",
    "\n",
    "Как и в случае с Keras изменение основных параметров дало улучшение метрики accuracy, увеличили количество эпох, нейронов на внутреннем слое, изменили оптимизатор:  \n",
    "было: epoch=3; 'relu' -> loss: loss: 0.6322 - accuracy: 0.7611  \n",
    "стало: epoch=10; dence 512; 'relu'; 'Adamax' -> loss: 0.4946 - accuracy: 0.8641  \n",
    "\n",
    "### Задание 3.\n",
    "<ol>\n",
    "Попробуйте обучить нейронную сеть на TensorFlow 2 на датасете imdb_reviews. Опишите в комментарии к уроку - какой результата вы добились от нейросети? Что помогло вам улучшить ее точность?\n",
    "</ol>\n",
    "\n",
    "В данном случае за основу была взята сеть из документации: https://www.tensorflow.org/tutorials/keras/text_classification_with_hub  \n",
    "\n",
    "В отличие от презыдущего задания во входном слое здесь будет использоваться предварительно обученная модель встраивания текста из \"https://tfhub.dev/google/tf2-preview/gnews-swivel-20dim/1\" для преобразования предложений в векторы. Остальная часть сети выглядит примерно так же как и в задании 1.  \n",
    "\n",
    "Результат по умолчанию: loss: 0.324; accuracy: 0.858  \n",
    "\n",
    "Изменение параметров модели: Эпохи, батчи, оптимизатор, количество нейронов на внутреннем слое и т.д. улучшений не давали или ухудшали модель (Пораметры модели из документации подобраны оптимально). Изменение модели в первом слое на другую \"https://tfhub.dev/google/tf2-preview/nnlm-en-dim128/1\" (model with ~1M vocabulary size and 128 dimensions) так же не улучшило качество, зато увеличило время обработки модели в 30-40 раз, результат: loss: 0.524; accuracy: 0.850.  "
   ]
  },
  {
   "cell_type": "markdown",
   "metadata": {},
   "source": [
    "### Далее идет код к заданиям:"
   ]
  },
  {
   "cell_type": "markdown",
   "metadata": {},
   "source": [
    "### Задание 1."
   ]
  },
  {
   "cell_type": "markdown",
   "metadata": {},
   "source": [
    "<ol>\n",
    "    <li>Попробуйте улучшить работу нейронной сети(разобранную на уроке) обучавшейся на датасет Fashion-MNIST. \n",
    "       Опишите в комментарии к уроку - какого результата вы добились от нейросети? Что помогло вам улучшить ее точность?</li>\n",
    "</ol>"
   ]
  },
  {
   "cell_type": "code",
   "execution_count": 17,
   "metadata": {},
   "outputs": [],
   "source": [
    "from __future__ import absolute_import, division, print_function, unicode_literals\n",
    "\n",
    "import tensorflow as tf\n",
    "import tensorflow_hub as hub\n",
    "from tensorflow import keras\n",
    "\n",
    "import numpy as np\n",
    "import matplotlib.pyplot as plt"
   ]
  },
  {
   "cell_type": "code",
   "execution_count": 2,
   "metadata": {},
   "outputs": [],
   "source": [
    "fashion_mnist = keras.datasets.fashion_mnist\n",
    "\n",
    "(train_images, train_labels), (test_images, test_labels) = fashion_mnist.load_data()"
   ]
  },
  {
   "cell_type": "code",
   "execution_count": 3,
   "metadata": {},
   "outputs": [],
   "source": [
    "np.random.seed(2177)\n",
    "tf.random.set_seed(2177)\n",
    "\n",
    "model = keras.Sequential([\n",
    "    keras.layers.Flatten(input_shape=(28, 28)),\n",
    "    keras.layers.Dense(512, activation='relu'), # 128\n",
    "    keras.layers.Dense(10)\n",
    "])"
   ]
  },
  {
   "cell_type": "code",
   "execution_count": 4,
   "metadata": {},
   "outputs": [],
   "source": [
    "model.compile(optimizer='Adamax',\n",
    "              loss=tf.keras.losses.SparseCategoricalCrossentropy(from_logits=True),\n",
    "              metrics=['accuracy'])"
   ]
  },
  {
   "cell_type": "code",
   "execution_count": 5,
   "metadata": {},
   "outputs": [
    {
     "name": "stdout",
     "output_type": "stream",
     "text": [
      "Epoch 1/10\n",
      "1875/1875 [==============================] - 3s 2ms/step - loss: 8.1237 - accuracy: 0.7761\n",
      "Epoch 2/10\n",
      "1875/1875 [==============================] - 3s 2ms/step - loss: 1.3287 - accuracy: 0.8029\n",
      "Epoch 3/10\n",
      "1875/1875 [==============================] - 3s 2ms/step - loss: 0.5141 - accuracy: 0.8368\n",
      "Epoch 4/10\n",
      "1875/1875 [==============================] - 3s 2ms/step - loss: 0.4136 - accuracy: 0.8582\n",
      "Epoch 5/10\n",
      "1875/1875 [==============================] - 3s 2ms/step - loss: 0.3693 - accuracy: 0.8705\n",
      "Epoch 6/10\n",
      "1875/1875 [==============================] - 3s 2ms/step - loss: 0.3374 - accuracy: 0.8793\n",
      "Epoch 7/10\n",
      "1875/1875 [==============================] - 3s 2ms/step - loss: 0.3206 - accuracy: 0.8838\n",
      "Epoch 8/10\n",
      "1875/1875 [==============================] - 3s 2ms/step - loss: 0.3079 - accuracy: 0.8883\n",
      "Epoch 9/10\n",
      "1875/1875 [==============================] - 3s 2ms/step - loss: 0.2950 - accuracy: 0.8929\n",
      "Epoch 10/10\n",
      "1875/1875 [==============================] - 3s 2ms/step - loss: 0.2839 - accuracy: 0.8951\n"
     ]
    },
    {
     "data": {
      "text/plain": [
       "<tensorflow.python.keras.callbacks.History at 0x11230b48288>"
      ]
     },
     "execution_count": 5,
     "metadata": {},
     "output_type": "execute_result"
    }
   ],
   "source": [
    "model.fit(train_images, train_labels, epochs=10)"
   ]
  },
  {
   "cell_type": "code",
   "execution_count": 6,
   "metadata": {},
   "outputs": [
    {
     "name": "stdout",
     "output_type": "stream",
     "text": [
      "313/313 - 0s - loss: 0.4946 - accuracy: 0.8641\n",
      "\n",
      "Test accuracy: 0.8640999794006348\n"
     ]
    }
   ],
   "source": [
    "test_loss, test_acc = model.evaluate(test_images,  test_labels, verbose=2)\n",
    "\n",
    "print('\\nTest accuracy:', test_acc)"
   ]
  },
  {
   "cell_type": "code",
   "execution_count": 7,
   "metadata": {},
   "outputs": [],
   "source": [
    "# epoch=3; 'relu' -> loss: loss: 0.6322 - accuracy: 0.7611\n",
    "\n",
    "# epoch=3; dence 512; 'relu' -> loss: 0.5741 - accuracy: 0.8174\n",
    "# epoch=3; dence 128 x2; 'relu' -> loss: 0.5869 - accuracy: 0.8113\n",
    "\n",
    "# epoch=5; 'relu' -> loss: 0.6374 - accuracy: 0.7840\n",
    "\n",
    "# epoch=10; 'relu' -> loss: 0.5039 - accuracy: 0.8294\n",
    "# epoch=10; dence 128 x2; 'relu' -> loss: 0.4477 - accuracy: 0.8427\n",
    "# epoch=10; dence 1024 x2; 'relu' -> loss: 0.4290 - accuracy: 0.8445\n",
    "\n",
    "# epoch=5; 'elu' -> loss: 0.6522 - accuracy: 0.7762"
   ]
  },
  {
   "cell_type": "code",
   "execution_count": 8,
   "metadata": {},
   "outputs": [],
   "source": [
    "# epoch=10; dence 512; 'relu'; 'Adamax' -> loss: 0.4946 - accuracy: 0.8641"
   ]
  },
  {
   "cell_type": "code",
   "execution_count": null,
   "metadata": {},
   "outputs": [],
   "source": []
  },
  {
   "cell_type": "markdown",
   "metadata": {},
   "source": [
    "### Задание 3."
   ]
  },
  {
   "cell_type": "markdown",
   "metadata": {},
   "source": [
    "Попробуйте обучить нейронную сеть на TensorFlow 2 на датасете imdb_reviews. Опишите в комментарии к уроку - какой результата вы добились от нейросети? Что помогло вам улучшить ее точность?"
   ]
  },
  {
   "cell_type": "code",
   "execution_count": 9,
   "metadata": {},
   "outputs": [],
   "source": [
    "# https://www.tensorflow.org/tutorials/keras/text_classification_with_hub"
   ]
  },
  {
   "cell_type": "code",
   "execution_count": 10,
   "metadata": {},
   "outputs": [],
   "source": [
    "import tensorflow_datasets as tfds\n",
    "import dataget"
   ]
  },
  {
   "cell_type": "code",
   "execution_count": 100,
   "metadata": {},
   "outputs": [],
   "source": [
    "train_data, test_data = tfds.load(\n",
    "    name=\"imdb_reviews\", \n",
    "    split=('train[:60%]', 'test'),\n",
    "    as_supervised=True)"
   ]
  },
  {
   "cell_type": "code",
   "execution_count": 101,
   "metadata": {},
   "outputs": [
    {
     "data": {
      "text/plain": [
       "<tf.Tensor: shape=(3,), dtype=string, numpy=\n",
       "array([b\"This was an absolutely terrible movie. Don't be lured in by Christopher Walken or Michael Ironside. Both are great actors, but this must simply be their worst role in history. Even their great acting could not redeem this movie's ridiculous storyline. This movie is an early nineties US propaganda piece. The most pathetic scenes were those when the Columbian rebels were making their cases for revolutions. Maria Conchita Alonso appeared phony, and her pseudo-love affair with Walken was nothing but a pathetic emotional plug in a movie that was devoid of any real meaning. I am disappointed that there are movies like this, ruining actor's like Christopher Walken's good name. I could barely sit through it.\",\n",
       "       b'I have been known to fall asleep during films, but this is usually due to a combination of things including, really tired, being warm and comfortable on the sette and having just eaten a lot. However on this occasion I fell asleep because the film was rubbish. The plot development was constant. Constantly slow and boring. Things seemed to happen, but with no explanation of what was causing them or why. I admit, I may have missed part of the film, but i watched the majority of it and everything just seemed to happen of its own accord without any real concern for anything else. I cant recommend this film at all.',\n",
       "       b'Mann photographs the Alberta Rocky Mountains in a superb fashion, and Jimmy Stewart and Walter Brennan give enjoyable performances as they always seem to do. <br /><br />But come on Hollywood - a Mountie telling the people of Dawson City, Yukon to elect themselves a marshal (yes a marshal!) and to enforce the law themselves, then gunfighters battling it out on the streets for control of the town? <br /><br />Nothing even remotely resembling that happened on the Canadian side of the border during the Klondike gold rush. Mr. Mann and company appear to have mistaken Dawson City for Deadwood, the Canadian North for the American Wild West.<br /><br />Canadian viewers be prepared for a Reefer Madness type of enjoyable howl with this ludicrous plot, or, to shake your head in disgust.'],\n",
       "      dtype=object)>"
      ]
     },
     "execution_count": 101,
     "metadata": {},
     "output_type": "execute_result"
    }
   ],
   "source": [
    "train_examples_batch, train_labels_batch = next(iter(train_data.batch(3)))\n",
    "train_examples_batch"
   ]
  },
  {
   "cell_type": "code",
   "execution_count": 102,
   "metadata": {},
   "outputs": [
    {
     "data": {
      "text/plain": [
       "<tf.Tensor: shape=(3,), dtype=int64, numpy=array([0, 0, 0], dtype=int64)>"
      ]
     },
     "execution_count": 102,
     "metadata": {},
     "output_type": "execute_result"
    }
   ],
   "source": [
    "train_labels_batch"
   ]
  },
  {
   "cell_type": "code",
   "execution_count": 103,
   "metadata": {},
   "outputs": [
    {
     "data": {
      "text/plain": [
       "<tf.Tensor: shape=(3, 128), dtype=float32, numpy=\n",
       "array([[ 9.01966274e-01, -4.83913347e-03,  1.17907055e-01,\n",
       "         3.81319046e-01,  6.57222793e-02, -3.01581532e-01,\n",
       "         8.90584365e-02, -2.69034863e-01, -8.51345584e-02,\n",
       "         1.08877886e-02, -6.66372627e-02, -3.73063087e-01,\n",
       "        -2.76447266e-01, -1.87254980e-01,  5.67507632e-02,\n",
       "         9.09779966e-02, -6.24961555e-02, -3.28687276e-03,\n",
       "        -3.08512092e-01,  3.78482223e-01,  7.62880966e-02,\n",
       "         1.43733576e-01, -1.12897493e-01,  9.59761534e-03,\n",
       "        -2.38938913e-01,  2.93743908e-02,  7.28663057e-02,\n",
       "        -2.48727947e-02, -8.16893280e-02,  6.68320432e-02,\n",
       "        -5.62225394e-02,  2.47078985e-01,  1.17681175e-01,\n",
       "         3.17581035e-02,  2.65932620e-01, -1.37706831e-01,\n",
       "        -1.50708258e-01, -1.63614675e-01, -1.51269153e-01,\n",
       "         2.34616160e-01, -9.12236273e-02, -4.22684886e-02,\n",
       "        -1.01224177e-01, -2.12229744e-01,  6.74503446e-02,\n",
       "         1.85163647e-01,  3.62982228e-02, -3.50210071e-01,\n",
       "        -5.92576079e-02, -9.54059511e-02, -9.65666175e-02,\n",
       "         3.79339904e-02, -2.36725271e-01,  2.67956525e-01,\n",
       "        -2.22367734e-01, -1.80506572e-01, -1.13724798e-01,\n",
       "         4.91059460e-02, -1.19525626e-01, -2.27335095e-03,\n",
       "        -1.81468800e-01, -4.74342071e-02,  9.61481929e-02,\n",
       "         4.93341237e-02,  2.69693173e-02,  2.66610924e-02,\n",
       "        -8.21918398e-02, -2.03230649e-01,  2.25084737e-01,\n",
       "         7.74206817e-02, -1.10149167e-01,  1.33730099e-01,\n",
       "         1.08389042e-01, -2.49691661e-02,  3.02257799e-02,\n",
       "         2.03551911e-02, -1.39646962e-01, -1.77291587e-01,\n",
       "        -1.31853789e-01,  1.65671393e-01, -4.72507323e-04,\n",
       "        -9.78293121e-02, -1.64517537e-01,  6.93127662e-02,\n",
       "        -7.20646083e-02, -1.01133175e-02, -4.18493431e-03,\n",
       "         2.48376504e-01,  7.00922966e-01,  6.45013988e-01,\n",
       "        -2.46314004e-01,  2.48779714e-01,  5.55042960e-02,\n",
       "        -1.72061652e-01,  5.44746453e-03,  2.16645315e-01,\n",
       "         1.24983951e-01, -1.32985115e-02, -9.09600873e-03,\n",
       "         8.74783769e-02, -2.72958595e-02,  5.59117980e-02,\n",
       "         2.11243659e-01,  2.08114520e-01,  1.86446942e-02,\n",
       "        -2.44881704e-01, -2.11568519e-01,  6.63717464e-02,\n",
       "        -1.52921677e-01,  9.16463733e-02, -1.56010687e-01,\n",
       "         4.47210558e-02, -1.58450484e-01, -1.72194898e-01,\n",
       "        -5.40404953e-02, -2.69618005e-01,  1.23170123e-01,\n",
       "         2.13364601e-01, -6.43658787e-02,  3.61668468e-02,\n",
       "         2.14489356e-01, -1.19912423e-01, -4.83419979e-04,\n",
       "         2.64609545e-01,  5.51236942e-02, -3.29729654e-02,\n",
       "         3.31326015e-02,  2.97882948e-02],\n",
       "       [ 1.16170359e+00, -7.05558211e-02,  1.60849199e-01,\n",
       "         3.51089686e-01,  1.02360711e-01, -1.50161996e-01,\n",
       "         5.18622026e-02, -2.03599006e-01,  6.68436140e-02,\n",
       "         1.42898023e-01,  1.48364618e-01, -2.91968614e-01,\n",
       "        -2.71577537e-01, -1.68576062e-01, -1.36256337e-01,\n",
       "         1.11695267e-01, -3.98711339e-02, -1.28138252e-02,\n",
       "        -3.04618925e-01,  5.42941988e-01,  2.79047489e-01,\n",
       "         1.59953356e-01, -3.32696103e-02, -2.49510771e-03,\n",
       "         2.85213925e-02, -6.92468956e-02,  1.93658113e-01,\n",
       "         1.93804561e-03, -1.92921445e-01,  6.70231208e-02,\n",
       "        -6.65799081e-02,  1.09033152e-01,  1.58422500e-01,\n",
       "         8.64866525e-02,  1.43579140e-01,  1.03380650e-01,\n",
       "        -4.73922193e-02, -4.26952273e-01, -6.54661702e-03,\n",
       "         1.97512910e-01, -3.22361104e-02, -2.14782055e-03,\n",
       "        -4.52199429e-02, -1.74372524e-01,  4.96806242e-02,\n",
       "         2.45766431e-01,  7.25580603e-02, -2.50667706e-02,\n",
       "        -3.02816182e-01,  1.43102169e-01,  6.67183176e-02,\n",
       "         1.50330588e-01, -1.28028333e-01,  1.26082793e-01,\n",
       "        -2.56188482e-01, -1.63196176e-01, -1.47142131e-02,\n",
       "        -1.44210309e-02,  2.35588059e-01,  2.94179227e-02,\n",
       "        -7.58787766e-02,  1.56788360e-02,  2.24473611e-01,\n",
       "        -1.53830796e-01, -1.23326421e-01, -1.18660610e-02,\n",
       "         1.57802682e-02, -1.79677367e-01,  1.23224139e-01,\n",
       "        -1.33039325e-01, -2.85176724e-01,  1.21948622e-01,\n",
       "         1.12625323e-01, -9.61901918e-02,  9.55129508e-03,\n",
       "         1.06275082e-01, -3.13692056e-02, -3.32366943e-01,\n",
       "         2.51673460e-02,  1.29422277e-01,  1.86496243e-01,\n",
       "         9.06253606e-03,  4.64373603e-02,  8.57261270e-02,\n",
       "         7.07606375e-02, -1.34054944e-01, -3.60419393e-01,\n",
       "         1.96367204e-01,  9.43037808e-01,  2.89180458e-01,\n",
       "        -1.13498874e-01,  1.06576920e-01,  1.35154268e-02,\n",
       "        -1.61476016e-01,  9.91938114e-02,  2.41570454e-02,\n",
       "         1.25472501e-01, -5.03857136e-02, -3.40599120e-02,\n",
       "         1.61820367e-01, -5.16199619e-02,  1.06337145e-01,\n",
       "         3.06430757e-01,  1.87173590e-01,  3.57286893e-02,\n",
       "        -1.35669515e-01, -2.43754730e-01,  3.51791047e-02,\n",
       "        -2.83647835e-01,  7.77992904e-02, -5.69541574e-01,\n",
       "         3.40250097e-02, -3.03014874e-01, -9.90547165e-02,\n",
       "        -7.81514961e-03, -3.85634869e-01, -1.29726410e-01,\n",
       "         4.75285724e-02, -3.18061970e-02, -2.62782443e-02,\n",
       "         1.93936780e-01, -1.66382834e-01,  1.32129624e-01,\n",
       "         1.14584014e-01, -3.33895721e-02, -8.43404531e-02,\n",
       "        -5.93071952e-02,  6.59306049e-02],\n",
       "       [ 7.89935350e-01, -1.92666233e-01,  8.59462842e-02,\n",
       "         1.53726608e-01,  1.95093232e-03,  1.50660705e-02,\n",
       "        -5.82072325e-02,  5.00802286e-02, -6.66294098e-02,\n",
       "         3.98210175e-02, -2.09152922e-02, -1.82045296e-01,\n",
       "        -1.15411662e-01, -2.62630641e-01, -1.56492770e-01,\n",
       "        -5.35144471e-02, -1.41639099e-01,  1.93874463e-02,\n",
       "        -1.37122169e-01,  9.09082413e-01, -2.52462868e-02,\n",
       "         3.22987527e-01,  4.61238585e-02,  1.72868013e-01,\n",
       "        -4.42900993e-02, -6.57747984e-02, -6.79853037e-02,\n",
       "        -9.84842926e-02, -3.51922177e-02, -1.10344328e-02,\n",
       "         1.16057135e-01, -8.15129206e-02,  2.02651680e-01,\n",
       "         6.64596865e-03,  7.05530941e-02, -9.66157578e-03,\n",
       "         3.51603627e-02, -1.96129397e-01, -1.82812903e-02,\n",
       "         1.84423357e-01,  6.92232624e-02, -3.77804078e-02,\n",
       "        -1.62355155e-01,  1.30570680e-01,  1.34224311e-01,\n",
       "        -1.50277736e-02,  9.65407714e-02, -1.26141369e-01,\n",
       "        -4.05008420e-02, -1.15344815e-01,  3.93504947e-02,\n",
       "         1.91737935e-01,  5.99980913e-02,  2.99692899e-01,\n",
       "         5.49813323e-02, -2.27710709e-01, -1.06945246e-01,\n",
       "         1.74803928e-01,  2.32869118e-01, -7.55720735e-02,\n",
       "        -2.10200951e-01,  8.46374631e-02, -1.70005560e-01,\n",
       "         1.72499210e-01, -5.05370423e-02, -9.07554403e-02,\n",
       "         8.56346451e-03,  2.29058042e-02,  2.60947347e-01,\n",
       "        -4.24651392e-02, -8.06366801e-02, -1.52203590e-01,\n",
       "        -1.09100053e-02,  7.10022300e-02,  7.09610358e-02,\n",
       "         1.98364004e-01,  1.60713434e-01, -2.05790639e-01,\n",
       "         2.07749978e-02,  2.44555138e-02,  8.46600309e-02,\n",
       "         4.19601165e-02, -2.38341112e-02,  5.08614331e-02,\n",
       "        -4.37806658e-02, -9.67954174e-02, -1.28794938e-01,\n",
       "         1.45295113e-01,  3.34722281e-01, -2.49092355e-02,\n",
       "        -7.21996874e-02,  7.60333985e-02,  1.09788142e-01,\n",
       "        -5.91083243e-02,  1.77998230e-01,  1.05147131e-01,\n",
       "         2.73706466e-01,  1.63680017e-01,  2.92986393e-01,\n",
       "         1.62288636e-01,  1.92936987e-01, -7.25108087e-02,\n",
       "         1.48647577e-01,  1.20697133e-01,  1.75806686e-01,\n",
       "        -8.22802186e-02,  3.19161601e-02,  9.75683853e-02,\n",
       "        -2.27390900e-01, -1.89130962e-01, -7.75573701e-02,\n",
       "         7.51652941e-02, -9.91581455e-02,  9.62962583e-03,\n",
       "         6.42622411e-02, -1.50064066e-01,  1.14945382e-01,\n",
       "         5.34672337e-03,  1.96428418e-01, -2.10412573e-02,\n",
       "         5.44419959e-02, -3.22782189e-01,  5.69203123e-03,\n",
       "        -1.00528084e-01, -7.29111880e-02, -1.84138656e-01,\n",
       "        -1.51076904e-02, -6.30587935e-02]], dtype=float32)>"
      ]
     },
     "execution_count": 103,
     "metadata": {},
     "output_type": "execute_result"
    }
   ],
   "source": [
    "# embedding = \"https://tfhub.dev/google/tf2-preview/gnews-swivel-20dim/1\"\n",
    "embedding = \"https://tfhub.dev/google/tf2-preview/nnlm-en-dim128/1\"\n",
    "hub_layer = hub.KerasLayer(embedding, input_shape=[], \n",
    "                           dtype=tf.string, trainable=True)\n",
    "hub_layer(train_examples_batch[:3])"
   ]
  },
  {
   "cell_type": "code",
   "execution_count": 104,
   "metadata": {},
   "outputs": [
    {
     "name": "stdout",
     "output_type": "stream",
     "text": [
      "Model: \"sequential_11\"\n",
      "_________________________________________________________________\n",
      "Layer (type)                 Output Shape              Param #   \n",
      "=================================================================\n",
      "keras_layer_6 (KerasLayer)   (None, 128)               124642688 \n",
      "_________________________________________________________________\n",
      "dense_23 (Dense)             (None, 16)                2064      \n",
      "_________________________________________________________________\n",
      "dense_24 (Dense)             (None, 1)                 17        \n",
      "=================================================================\n",
      "Total params: 124,644,769\n",
      "Trainable params: 124,644,769\n",
      "Non-trainable params: 0\n",
      "_________________________________________________________________\n"
     ]
    }
   ],
   "source": [
    "np.random.seed(2177)\n",
    "tf.random.set_seed(2177)\n",
    "\n",
    "model = tf.keras.Sequential()\n",
    "model.add(hub_layer)\n",
    "model.add(tf.keras.layers.Dense(16, activation='relu'))\n",
    "model.add(tf.keras.layers.Dense(1))\n",
    "\n",
    "model.summary()"
   ]
  },
  {
   "cell_type": "code",
   "execution_count": 105,
   "metadata": {},
   "outputs": [],
   "source": [
    "model.compile(optimizer='adam',\n",
    "              loss=tf.keras.losses.BinaryCrossentropy(from_logits=True),\n",
    "              metrics=['accuracy'])"
   ]
  },
  {
   "cell_type": "code",
   "execution_count": 106,
   "metadata": {},
   "outputs": [
    {
     "name": "stdout",
     "output_type": "stream",
     "text": [
      "Epoch 1/20\n",
      "30/30 [==============================] - 45s 2s/step - loss: 0.6219 - accuracy: 0.5633 - val_loss: 0.5041 - val_accuracy: 0.7225\n",
      "Epoch 2/20\n",
      "30/30 [==============================] - 44s 1s/step - loss: 0.4193 - accuracy: 0.8057 - val_loss: 0.3097 - val_accuracy: 0.8721\n",
      "Epoch 3/20\n",
      "30/30 [==============================] - 43s 1s/step - loss: 0.2631 - accuracy: 0.8979 - val_loss: 0.1931 - val_accuracy: 0.9403\n",
      "Epoch 4/20\n",
      "30/30 [==============================] - 43s 1s/step - loss: 0.1705 - accuracy: 0.9433 - val_loss: 0.1238 - val_accuracy: 0.9634\n",
      "Epoch 5/20\n",
      "30/30 [==============================] - 43s 1s/step - loss: 0.1113 - accuracy: 0.9699 - val_loss: 0.0788 - val_accuracy: 0.9811\n",
      "Epoch 6/20\n",
      "30/30 [==============================] - 43s 1s/step - loss: 0.0708 - accuracy: 0.9844 - val_loss: 0.0494 - val_accuracy: 0.9924\n",
      "Epoch 7/20\n",
      "30/30 [==============================] - 43s 1s/step - loss: 0.0451 - accuracy: 0.9932 - val_loss: 0.0320 - val_accuracy: 0.9974\n",
      "Epoch 8/20\n",
      "30/30 [==============================] - 43s 1s/step - loss: 0.0288 - accuracy: 0.9969 - val_loss: 0.0209 - val_accuracy: 0.9990\n",
      "Epoch 9/20\n",
      "30/30 [==============================] - 43s 1s/step - loss: 0.0192 - accuracy: 0.9994 - val_loss: 0.0145 - val_accuracy: 0.9996\n",
      "Epoch 10/20\n",
      "30/30 [==============================] - 43s 1s/step - loss: 0.0133 - accuracy: 0.9996 - val_loss: 0.0107 - val_accuracy: 0.9998\n",
      "Epoch 11/20\n",
      "30/30 [==============================] - 43s 1s/step - loss: 0.0099 - accuracy: 0.9998 - val_loss: 0.0079 - val_accuracy: 0.9999\n",
      "Epoch 12/20\n",
      "30/30 [==============================] - 43s 1s/step - loss: 0.0075 - accuracy: 0.9999 - val_loss: 0.0062 - val_accuracy: 0.9999\n",
      "Epoch 13/20\n",
      "30/30 [==============================] - 43s 1s/step - loss: 0.0059 - accuracy: 0.9999 - val_loss: 0.0050 - val_accuracy: 0.9999\n",
      "Epoch 14/20\n",
      "30/30 [==============================] - 43s 1s/step - loss: 0.0048 - accuracy: 0.9999 - val_loss: 0.0041 - val_accuracy: 0.9999\n",
      "Epoch 15/20\n",
      "30/30 [==============================] - 43s 1s/step - loss: 0.0039 - accuracy: 0.9999 - val_loss: 0.0034 - val_accuracy: 1.0000\n",
      "Epoch 16/20\n",
      "30/30 [==============================] - 43s 1s/step - loss: 0.0032 - accuracy: 1.0000 - val_loss: 0.0028 - val_accuracy: 1.0000\n",
      "Epoch 17/20\n",
      "30/30 [==============================] - 43s 1s/step - loss: 0.0027 - accuracy: 1.0000 - val_loss: 0.0024 - val_accuracy: 1.0000\n",
      "Epoch 18/20\n",
      "30/30 [==============================] - 43s 1s/step - loss: 0.0023 - accuracy: 1.0000 - val_loss: 0.0021 - val_accuracy: 1.0000\n",
      "Epoch 19/20\n",
      "30/30 [==============================] - 43s 1s/step - loss: 0.0020 - accuracy: 1.0000 - val_loss: 0.0018 - val_accuracy: 1.0000\n",
      "Epoch 20/20\n",
      "30/30 [==============================] - 43s 1s/step - loss: 0.0018 - accuracy: 1.0000 - val_loss: 0.0016 - val_accuracy: 1.0000\n"
     ]
    }
   ],
   "source": [
    "history = model.fit(train_data.shuffle(10000).batch(512),\n",
    "                    epochs=20,\n",
    "                    validation_data=train_data.batch(512),\n",
    "                    verbose=1)"
   ]
  },
  {
   "cell_type": "code",
   "execution_count": 107,
   "metadata": {},
   "outputs": [
    {
     "name": "stdout",
     "output_type": "stream",
     "text": [
      "49/49 - 12s - loss: 0.5242 - accuracy: 0.8499\n",
      "loss: 0.524\n",
      "accuracy: 0.850\n"
     ]
    }
   ],
   "source": [
    "results = model.evaluate(test_data.batch(512), verbose=2)\n",
    "\n",
    "for name, value in zip(model.metrics_names, results):\n",
    "    print(\"%s: %.3f\" % (name, value))"
   ]
  },
  {
   "cell_type": "code",
   "execution_count": null,
   "metadata": {},
   "outputs": [],
   "source": []
  }
 ],
 "metadata": {
  "kernelspec": {
   "display_name": "Python 3",
   "language": "python",
   "name": "python3"
  },
  "language_info": {
   "codemirror_mode": {
    "name": "ipython",
    "version": 3
   },
   "file_extension": ".py",
   "mimetype": "text/x-python",
   "name": "python",
   "nbconvert_exporter": "python",
   "pygments_lexer": "ipython3",
   "version": "3.7.7"
  }
 },
 "nbformat": 4,
 "nbformat_minor": 4
}
